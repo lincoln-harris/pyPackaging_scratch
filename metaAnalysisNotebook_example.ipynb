{
 "cells": [
  {
   "cell_type": "code",
   "execution_count": null,
   "metadata": {
    "collapsed": true
   },
   "outputs": [],
   "source": [
    "# WELCOME TO THE ANALYSIS NOTEBOOK!!"
   ]
  },
  {
   "cell_type": "code",
   "execution_count": 3,
   "metadata": {
    "collapsed": true
   },
   "outputs": [],
   "source": [
    "import pandas as pd"
   ]
  },
  {
   "cell_type": "code",
   "execution_count": 1,
   "metadata": {
    "collapsed": true
   },
   "outputs": [],
   "source": [
    "# 0 - CREATE REFLOW RUNBATCH FILES\n",
    "from myPkg.reflow import createRunbatch, getS3Paths\n",
    "getS3Paths(scBam)\n",
    "getS3Paths(bulkBam)\n",
    "getS3Paths(fastq)\n",
    "createRunbatch()"
   ]
  },
  {
   "cell_type": "code",
   "execution_count": 2,
   "metadata": {
    "collapsed": true
   },
   "outputs": [],
   "source": [
    "# 1 - RUN REFLOW\n",
    "! cd reflowDir\n",
    "! reflow runbatch"
   ]
  },
  {
   "cell_type": "code",
   "execution_count": 3,
   "metadata": {
    "collapsed": true
   },
   "outputs": [],
   "source": [
    "# 2 - GERMLINE FILTER\n",
    "from myPkg.germline import germlineFilter\n",
    "germlineFilter(scVCF)\n",
    "germlineFilter(bulkVCF)"
   ]
  },
  {
   "cell_type": "code",
   "execution_count": 4,
   "metadata": {
    "collapsed": true
   },
   "outputs": [],
   "source": [
    "# 3 - CHECK COVERAGE\n",
    "from myPkg.coverage import checkCoverage\n",
    "checkCoverage()"
   ]
  },
  {
   "cell_type": "code",
   "execution_count": 5,
   "metadata": {
    "collapsed": true
   },
   "outputs": [],
   "source": [
    "# 4 - MAKE GENE/COUNTS TABLE\n",
    "from myPkg.geneCounts import getGeneCounts\n",
    "getGeneCounts()"
   ]
  },
  {
   "cell_type": "code",
   "execution_count": 6,
   "metadata": {
    "collapsed": true
   },
   "outputs": [],
   "source": [
    "# 5 - GET GENE SPECIFIC HITS\n",
    "from myPkg.geneCounts import getGOIcounts\n",
    "getGOIcounts()"
   ]
  },
  {
   "cell_type": "code",
   "execution_count": null,
   "metadata": {
    "collapsed": true
   },
   "outputs": [],
   "source": [
    "# 6 - MAKE SUMMARY TABLE \n",
    "from myPkg.summaryTable import makeSummaryTable\n",
    "makeSummaryTable()"
   ]
  }
 ],
 "metadata": {
  "kernelspec": {
   "display_name": "Python 3",
   "language": "python",
   "name": "python3"
  },
  "language_info": {
   "codemirror_mode": {
    "name": "ipython",
    "version": 3
   },
   "file_extension": ".py",
   "mimetype": "text/x-python",
   "name": "python",
   "nbconvert_exporter": "python",
   "pygments_lexer": "ipython3",
   "version": "3.6.4"
  }
 },
 "nbformat": 4,
 "nbformat_minor": 2
}
